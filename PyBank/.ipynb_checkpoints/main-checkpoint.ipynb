{
 "cells": [
  {
   "cell_type": "code",
   "execution_count": 18,
   "metadata": {},
   "outputs": [
    {
     "ename": "SyntaxError",
     "evalue": "invalid syntax (<ipython-input-18-91b61901eeb0>, line 1)",
     "output_type": "error",
     "traceback": [
      "\u001b[1;36m  File \u001b[1;32m\"<ipython-input-18-91b61901eeb0>\"\u001b[1;36m, line \u001b[1;32m1\u001b[0m\n\u001b[1;33m    The net total amount of Profit/Losses over the entire period.\u001b[0m\n\u001b[1;37m          ^\u001b[0m\n\u001b[1;31mSyntaxError\u001b[0m\u001b[1;31m:\u001b[0m invalid syntax\n"
     ]
    }
   ],
   "source": [
    "Financial Analysis\n",
    "  ----------------------------\n",
    "  Total Months: 86\n",
    "  Total: $38382578\n",
    "  Average  Change: $-2315.12\n",
    "  Greatest Increase in Profits: Feb-2012 ($1926159)\n",
    "  Greatest Decrease in Profits: Sep-2013 ($-2196167)\n",
    "Your final script should print the analysis to the terminal and export a text file with the results."
   ]
  },
  {
   "cell_type": "code",
   "execution_count": 56,
   "metadata": {},
   "outputs": [
    {
     "name": "stdout",
     "output_type": "stream",
     "text": [
      "    Profit/Losses\n",
      "0          867884\n",
      "1          984655\n",
      "2          322013\n",
      "3          -69417\n",
      "4          310503\n",
      "..            ...\n",
      "81         102685\n",
      "82         795914\n",
      "83          60988\n",
      "84         138230\n",
      "85         671099\n",
      "\n",
      "[86 rows x 1 columns]\n"
     ]
    }
   ],
   "source": [
    "import pandas as pd\n",
    "data = pd.read_csv('budget_data.csv')\n",
    "col2 = pd.read_csv('budget_data.csv', usecols = ['Profit/Losses'], low_memory = False)\n",
    "print(col2)"
   ]
  },
  {
   "cell_type": "code",
   "execution_count": 58,
   "metadata": {},
   "outputs": [
    {
     "name": "stdout",
     "output_type": "stream",
     "text": [
      "Total Months: 86\n"
     ]
    }
   ],
   "source": [
    "###The total number of months included in the dataset.\n",
    "print(f\"Total Months:\",len(data))"
   ]
  },
  {
   "cell_type": "code",
   "execution_count": 66,
   "metadata": {},
   "outputs": [
    {
     "name": "stdout",
     "output_type": "stream",
     "text": [
      "Total: $ 38382578\n"
     ]
    }
   ],
   "source": [
    "### The net total amount of Profit/Losses over the entire period.\n",
    "sum_data = data['Profit/Losses'].sum()\n",
    "print(\"Total: $\",sum_data)"
   ]
  },
  {
   "cell_type": "code",
   "execution_count": 126,
   "metadata": {},
   "outputs": [
    {
     "name": "stdout",
     "output_type": "stream",
     "text": [
      "Average change: $ -2288\n"
     ]
    }
   ],
   "source": [
    "###The average of the changes in Profit/Losses over the entire period.\n",
    "avg_sum = 0\n",
    "count = 0\n",
    "dif = 0\n",
    "while count < len(data)-1:\n",
    "    count += 1\n",
    "    dif = data['Profit/Losses'][count]-data['Profit/Losses'][count-1]\n",
    "    \n",
    "    avg_sum += dif/len(data)\n",
    "print (f\"Average change: $\",round(avg_sum))\n",
    "\n"
   ]
  },
  {
   "cell_type": "code",
   "execution_count": 129,
   "metadata": {},
   "outputs": [
    {
     "name": "stdout",
     "output_type": "stream",
     "text": [
      "The greatest increase in profits: $ 1926159\n"
     ]
    }
   ],
   "source": [
    "###The greatest increase in profits (date and amount) over the entire period.\n",
    "maximum = 0\n",
    "count = 0\n",
    "dif = 0\n",
    "while count < len(data)-1:\n",
    "    count += 1\n",
    "    dif = data['Profit/Losses'][count]-data['Profit/Losses'][count-1]\n",
    "    if dif > maximum:\n",
    "        maximum = dif\n",
    "print (f\"The greatest increase in profits: $\", maximum)"
   ]
  },
  {
   "cell_type": "code",
   "execution_count": 131,
   "metadata": {},
   "outputs": [
    {
     "name": "stdout",
     "output_type": "stream",
     "text": [
      "The greatest decrease in profits: $ -2196167\n"
     ]
    }
   ],
   "source": [
    "###The greatest decrease in losses (date and amount) over the entire period.\n",
    "minimum = 0\n",
    "count = 0\n",
    "dif = 0\n",
    "while count < len(data)-1:\n",
    "    count += 1\n",
    "    dif = data['Profit/Losses'][count]-data['Profit/Losses'][count-1]\n",
    "    if dif < minimum:\n",
    "        minimum = dif\n",
    "print (f\"The greatest decrease in profits: $\", minimum)"
   ]
  }
 ],
 "metadata": {
  "kernelspec": {
   "display_name": "Python 3",
   "language": "python",
   "name": "python3"
  },
  "language_info": {
   "codemirror_mode": {
    "name": "ipython",
    "version": 3
   },
   "file_extension": ".py",
   "mimetype": "text/x-python",
   "name": "python",
   "nbconvert_exporter": "python",
   "pygments_lexer": "ipython3",
   "version": "3.7.6"
  }
 },
 "nbformat": 4,
 "nbformat_minor": 4
}
